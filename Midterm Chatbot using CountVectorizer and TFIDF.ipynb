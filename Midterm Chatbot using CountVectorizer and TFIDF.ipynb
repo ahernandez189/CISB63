{
 "cells": [
  {
   "cell_type": "markdown",
   "metadata": {},
   "source": [
    "### CISB 63 - Midterm Project\n",
    "### Angel Hernandez"
   ]
  },
  {
   "cell_type": "markdown",
   "metadata": {},
   "source": [
    "### Building a basic chatbot\n",
    "\n",
    "#### We will be usign Amazon's website for various product categories. Since the database is huge, we will be using the data for electronic items only. \n",
    "\n",
    "#### The corpus is a JavaScript Object Notation (JSON)-like format:"
   ]
  },
  {
   "cell_type": "markdown",
   "metadata": {},
   "source": [
    "### Architecture of the chatbot\n",
    "\n",
    " 1. Store all the questions from the corpus in a list\n",
    " 2. Store all the corresponding answers from the corpur in a list\n",
    " 3. Vectorize and preprocess the question data\n",
    " 4. Vectorize and preprocess the user's query\n",
    " 5. Assess the most similar question to the user's query using cosine similarity\n",
    " 6. Return the corresponding answer to the most similar question as a chat response"
   ]
  },
  {
   "cell_type": "markdown",
   "metadata": {},
   "source": [
    "#### Let's import some libraries"
   ]
  },
  {
   "cell_type": "code",
   "execution_count": 1,
   "metadata": {},
   "outputs": [],
   "source": [
    "import numpy as np\n",
    "from sklearn.metrics.pairwise import cosine_similarity\n",
    "from sklearn.feature_extraction.text import CountVectorizer\n",
    "from sklearn.feature_extraction.text import TfidfTransformer\n",
    "import pandas as pd"
   ]
  },
  {
   "cell_type": "markdown",
   "metadata": {},
   "source": [
    "#### Let's add one more: \n",
    "\n",
    "### ast — Abstract Syntax Trees \n",
    "\n",
    "#### The ast module helps Python applications to process trees of the Python abstract syntax grammar."
   ]
  },
  {
   "cell_type": "code",
   "execution_count": 2,
   "metadata": {},
   "outputs": [],
   "source": [
    "import ast"
   ]
  },
  {
   "cell_type": "markdown",
   "metadata": {},
   "source": [
    "#### Let's create two lists for our questions and answers"
   ]
  },
  {
   "cell_type": "code",
   "execution_count": 3,
   "metadata": {},
   "outputs": [],
   "source": [
    "questions = []\n",
    "answers = []"
   ]
  },
  {
   "cell_type": "markdown",
   "metadata": {},
   "source": [
    "#### Let's load the questions and answers in separate lists"
   ]
  },
  {
   "cell_type": "code",
   "execution_count": 4,
   "metadata": {},
   "outputs": [],
   "source": [
    "with open('dataset\\qa_Electronics.json','r') as f:\n",
    "    for line in f:\n",
    "        data = ast.literal_eval(line)\n",
    "        questions.append(data['question'].lower())\n",
    "        answers.append(data['answer'].lower())"
   ]
  },
  {
   "cell_type": "markdown",
   "metadata": {},
   "source": [
    "### Let's create a pandas dataframe with the questions and answers"
   ]
  },
  {
   "cell_type": "code",
   "execution_count": 6,
   "metadata": {},
   "outputs": [],
   "source": [
    "DF = pd.DataFrame(answers,questions)"
   ]
  },
  {
   "cell_type": "code",
   "execution_count": 7,
   "metadata": {},
   "outputs": [
    {
     "data": {
      "text/html": [
       "<div>\n",
       "<style scoped>\n",
       "    .dataframe tbody tr th:only-of-type {\n",
       "        vertical-align: middle;\n",
       "    }\n",
       "\n",
       "    .dataframe tbody tr th {\n",
       "        vertical-align: top;\n",
       "    }\n",
       "\n",
       "    .dataframe thead th {\n",
       "        text-align: right;\n",
       "    }\n",
       "</style>\n",
       "<table border=\"1\" class=\"dataframe\">\n",
       "  <thead>\n",
       "    <tr style=\"text-align: right;\">\n",
       "      <th></th>\n",
       "      <th>0</th>\n",
       "    </tr>\n",
       "  </thead>\n",
       "  <tbody>\n",
       "    <tr>\n",
       "      <th>is this cover the one that fits the old nook color? which i believe is 8x5.</th>\n",
       "      <td>yes this fits both the nook color and the same...</td>\n",
       "    </tr>\n",
       "    <tr>\n",
       "      <th>does it fit nook glowlight?</th>\n",
       "      <td>no. the nook color or color tablet</td>\n",
       "    </tr>\n",
       "    <tr>\n",
       "      <th>would it fit nook 1st edition? 4.9in x 7.7in ?</th>\n",
       "      <td>i don't think so. the nook color is 5 x 8 so n...</td>\n",
       "    </tr>\n",
       "    <tr>\n",
       "      <th>will this fit a nook color that's 5 x 8?</th>\n",
       "      <td>yes</td>\n",
       "    </tr>\n",
       "    <tr>\n",
       "      <th>will this fit the samsung galaxy tab 4 nook 10.1</th>\n",
       "      <td>no, the tab is smaller than the 'color'</td>\n",
       "    </tr>\n",
       "    <tr>\n",
       "      <th>does it have a flip stand?</th>\n",
       "      <td>no, there is not a flip stand. it has a pocket...</td>\n",
       "    </tr>\n",
       "    <tr>\n",
       "      <th>does this have a flip stand</th>\n",
       "      <td>hi, no it doesn't</td>\n",
       "    </tr>\n",
       "    <tr>\n",
       "      <th>also fits the hd+?</th>\n",
       "      <td>it should. they are the same size and the char...</td>\n",
       "    </tr>\n",
       "    <tr>\n",
       "      <th>does it have 2 positions for the reader? horizontal/vertical thank you kwod</th>\n",
       "      <td>yes</td>\n",
       "    </tr>\n",
       "    <tr>\n",
       "      <th>is there a closure mechanism? bands, magnetic, etc.?</th>\n",
       "      <td>no- it is more like a normal book would be. it...</td>\n",
       "    </tr>\n",
       "    <tr>\n",
       "      <th>how far out does the arm extend?</th>\n",
       "      <td>18 inches on our tv.</td>\n",
       "    </tr>\n",
       "    <tr>\n",
       "      <th>can you mount a sound bar using the external \"stick\" arms vertically hanging below the lcd monitor (27 inch)?</th>\n",
       "      <td>yes, i can but need sound bar mount.</td>\n",
       "    </tr>\n",
       "    <tr>\n",
       "      <th>my tv has a vesa 200x200 bolt pattern and i need it to extend to 24 inches. with the extension, will this wall mount fit my bolt pattern?</th>\n",
       "      <td>200mm x200mm. yes fully extended from wall to ...</td>\n",
       "    </tr>\n",
       "    <tr>\n",
       "      <th>my vizio has 200 ht x 600 width mounting holes. will this mount handle that?</th>\n",
       "      <td>i'm sorry mine is mounted already so i could n...</td>\n",
       "    </tr>\n",
       "    <tr>\n",
       "      <th>will it fit vizio tvs?</th>\n",
       "      <td>i have a 42\" vizio and it fit just fine</td>\n",
       "    </tr>\n",
       "    <tr>\n",
       "      <th>does it work well with 39 inch magnavox tv</th>\n",
       "      <td>should work fine there are plenty of ways to a...</td>\n",
       "    </tr>\n",
       "    <tr>\n",
       "      <th>can i use it on a tv with vesa 100 x 100?</th>\n",
       "      <td>yes, it does have that pattern as the smallest...</td>\n",
       "    </tr>\n",
       "    <tr>\n",
       "      <th>will it mount a 32\" vizio? the bolts in back are 20\" apart will the bracket fit that?? last mount i bought didn't and don't want to buy extension.</th>\n",
       "      <td>is should fit. if necessary you can use the 4 ...</td>\n",
       "    </tr>\n",
       "    <tr>\n",
       "      <th>will this work with viso vx37l?</th>\n",
       "      <td>yes, definitely. i bought me a vizio 42 inch a...</td>\n",
       "    </tr>\n",
       "    <tr>\n",
       "      <th>can it be used for vizio 39\" class led smart tv | e390i-a1?</th>\n",
       "      <td>we have our 42\" vizio mounted on it with no pr...</td>\n",
       "    </tr>\n",
       "  </tbody>\n",
       "</table>\n",
       "</div>"
      ],
      "text/plain": [
       "                                                                                                    0\n",
       "is this cover the one that fits the old nook co...  yes this fits both the nook color and the same...\n",
       "does it fit nook glowlight?                                        no. the nook color or color tablet\n",
       "would it fit nook 1st edition? 4.9in x 7.7in ?      i don't think so. the nook color is 5 x 8 so n...\n",
       "will this fit a nook color that's 5 x 8?                                                          yes\n",
       "will this fit the samsung galaxy tab 4 nook 10.1              no, the tab is smaller than the 'color'\n",
       "does it have a flip stand?                          no, there is not a flip stand. it has a pocket...\n",
       "does this have a flip stand                                                         hi, no it doesn't\n",
       "also fits the hd+?                                  it should. they are the same size and the char...\n",
       "does it have 2 positions for the reader? horizo...                                                yes\n",
       "is there a closure mechanism? bands, magnetic, ...  no- it is more like a normal book would be. it...\n",
       "how far out does the arm extend?                                                 18 inches on our tv.\n",
       "can you mount a sound bar using the external \"s...               yes, i can but need sound bar mount.\n",
       "my tv has a vesa 200x200 bolt pattern and i nee...  200mm x200mm. yes fully extended from wall to ...\n",
       "my vizio has 200 ht x 600 width mounting holes....  i'm sorry mine is mounted already so i could n...\n",
       "will it fit vizio tvs?                                        i have a 42\" vizio and it fit just fine\n",
       "does it work well with 39 inch magnavox tv          should work fine there are plenty of ways to a...\n",
       "can i use it on a tv with vesa 100 x 100?           yes, it does have that pattern as the smallest...\n",
       "will it mount a 32\" vizio? the bolts in back ar...  is should fit. if necessary you can use the 4 ...\n",
       "will this work with viso vx37l?                     yes, definitely. i bought me a vizio 42 inch a...\n",
       "can it be used for vizio 39\" class led smart tv...  we have our 42\" vizio mounted on it with no pr..."
      ]
     },
     "execution_count": 7,
     "metadata": {},
     "output_type": "execute_result"
    }
   ],
   "source": [
    "DF.head(20)"
   ]
  },
  {
   "cell_type": "code",
   "execution_count": 8,
   "metadata": {},
   "outputs": [
    {
     "data": {
      "text/html": [
       "<div>\n",
       "<style scoped>\n",
       "    .dataframe tbody tr th:only-of-type {\n",
       "        vertical-align: middle;\n",
       "    }\n",
       "\n",
       "    .dataframe tbody tr th {\n",
       "        vertical-align: top;\n",
       "    }\n",
       "\n",
       "    .dataframe thead th {\n",
       "        text-align: right;\n",
       "    }\n",
       "</style>\n",
       "<table border=\"1\" class=\"dataframe\">\n",
       "  <thead>\n",
       "    <tr style=\"text-align: right;\">\n",
       "      <th></th>\n",
       "      <th>0</th>\n",
       "    </tr>\n",
       "  </thead>\n",
       "  <tbody>\n",
       "    <tr>\n",
       "      <th>is the space from bottom of desktop to tray adjustable to more than one position?</th>\n",
       "      <td>no</td>\n",
       "    </tr>\n",
       "    <tr>\n",
       "      <th>can the mouse extension be mounted on the left side</th>\n",
       "      <td>yes, you can put it on which ever side you want</td>\n",
       "    </tr>\n",
       "    <tr>\n",
       "      <th>does it come with all the hardware</th>\n",
       "      <td>it's been a while since i bought this, but i'm...</td>\n",
       "    </tr>\n",
       "    <tr>\n",
       "      <th>how wide is it? i need a 19 inch length tray for my little desk</th>\n",
       "      <td>we just measured the tray and it is 21 inches ...</td>\n",
       "    </tr>\n",
       "    <tr>\n",
       "      <th>can this be adapted to be clamped underneath a glass computer desk? the glass is 1/4\" thick</th>\n",
       "      <td>i do not think so.</td>\n",
       "    </tr>\n",
       "  </tbody>\n",
       "</table>\n",
       "</div>"
      ],
      "text/plain": [
       "                                                                                                    0\n",
       "is the space from bottom of desktop to tray adj...                                                 no\n",
       "can the mouse extension be mounted on the left ...    yes, you can put it on which ever side you want\n",
       "does it come with all the hardware                  it's been a while since i bought this, but i'm...\n",
       "how wide is it? i need a 19 inch length tray fo...  we just measured the tray and it is 21 inches ...\n",
       "can this be adapted to be clamped underneath a ...                                 i do not think so."
      ]
     },
     "execution_count": 8,
     "metadata": {},
     "output_type": "execute_result"
    }
   ],
   "source": [
    "DF.tail()"
   ]
  },
  {
   "cell_type": "markdown",
   "metadata": {},
   "source": [
    "#### Let's tokenize the text and convert data in matrix format"
   ]
  },
  {
   "cell_type": "code",
   "execution_count": 9,
   "metadata": {},
   "outputs": [],
   "source": [
    "from sklearn.feature_extraction.text import CountVectorizer\n",
    "vectorizer = CountVectorizer(stop_words='english')\n",
    "X_vec = vectorizer.fit_transform(questions)"
   ]
  },
  {
   "cell_type": "markdown",
   "metadata": {},
   "source": [
    "#### This is new!!!! <br> Let's Transform data by applying term frequency inverse document frequency (TF-IDF) "
   ]
  },
  {
   "cell_type": "code",
   "execution_count": 10,
   "metadata": {},
   "outputs": [],
   "source": [
    "tfidf = TfidfTransformer() \n",
    "X_tfidf = tfidf.fit_transform(X_vec)"
   ]
  },
  {
   "cell_type": "code",
   "execution_count": 11,
   "metadata": {},
   "outputs": [
    {
     "data": {
      "text/html": [
       "<style>#sk-container-id-1 {color: black;}#sk-container-id-1 pre{padding: 0;}#sk-container-id-1 div.sk-toggleable {background-color: white;}#sk-container-id-1 label.sk-toggleable__label {cursor: pointer;display: block;width: 100%;margin-bottom: 0;padding: 0.3em;box-sizing: border-box;text-align: center;}#sk-container-id-1 label.sk-toggleable__label-arrow:before {content: \"▸\";float: left;margin-right: 0.25em;color: #696969;}#sk-container-id-1 label.sk-toggleable__label-arrow:hover:before {color: black;}#sk-container-id-1 div.sk-estimator:hover label.sk-toggleable__label-arrow:before {color: black;}#sk-container-id-1 div.sk-toggleable__content {max-height: 0;max-width: 0;overflow: hidden;text-align: left;background-color: #f0f8ff;}#sk-container-id-1 div.sk-toggleable__content pre {margin: 0.2em;color: black;border-radius: 0.25em;background-color: #f0f8ff;}#sk-container-id-1 input.sk-toggleable__control:checked~div.sk-toggleable__content {max-height: 200px;max-width: 100%;overflow: auto;}#sk-container-id-1 input.sk-toggleable__control:checked~label.sk-toggleable__label-arrow:before {content: \"▾\";}#sk-container-id-1 div.sk-estimator input.sk-toggleable__control:checked~label.sk-toggleable__label {background-color: #d4ebff;}#sk-container-id-1 div.sk-label input.sk-toggleable__control:checked~label.sk-toggleable__label {background-color: #d4ebff;}#sk-container-id-1 input.sk-hidden--visually {border: 0;clip: rect(1px 1px 1px 1px);clip: rect(1px, 1px, 1px, 1px);height: 1px;margin: -1px;overflow: hidden;padding: 0;position: absolute;width: 1px;}#sk-container-id-1 div.sk-estimator {font-family: monospace;background-color: #f0f8ff;border: 1px dotted black;border-radius: 0.25em;box-sizing: border-box;margin-bottom: 0.5em;}#sk-container-id-1 div.sk-estimator:hover {background-color: #d4ebff;}#sk-container-id-1 div.sk-parallel-item::after {content: \"\";width: 100%;border-bottom: 1px solid gray;flex-grow: 1;}#sk-container-id-1 div.sk-label:hover label.sk-toggleable__label {background-color: #d4ebff;}#sk-container-id-1 div.sk-serial::before {content: \"\";position: absolute;border-left: 1px solid gray;box-sizing: border-box;top: 0;bottom: 0;left: 50%;z-index: 0;}#sk-container-id-1 div.sk-serial {display: flex;flex-direction: column;align-items: center;background-color: white;padding-right: 0.2em;padding-left: 0.2em;position: relative;}#sk-container-id-1 div.sk-item {position: relative;z-index: 1;}#sk-container-id-1 div.sk-parallel {display: flex;align-items: stretch;justify-content: center;background-color: white;position: relative;}#sk-container-id-1 div.sk-item::before, #sk-container-id-1 div.sk-parallel-item::before {content: \"\";position: absolute;border-left: 1px solid gray;box-sizing: border-box;top: 0;bottom: 0;left: 50%;z-index: -1;}#sk-container-id-1 div.sk-parallel-item {display: flex;flex-direction: column;z-index: 1;position: relative;background-color: white;}#sk-container-id-1 div.sk-parallel-item:first-child::after {align-self: flex-end;width: 50%;}#sk-container-id-1 div.sk-parallel-item:last-child::after {align-self: flex-start;width: 50%;}#sk-container-id-1 div.sk-parallel-item:only-child::after {width: 0;}#sk-container-id-1 div.sk-dashed-wrapped {border: 1px dashed gray;margin: 0 0.4em 0.5em 0.4em;box-sizing: border-box;padding-bottom: 0.4em;background-color: white;}#sk-container-id-1 div.sk-label label {font-family: monospace;font-weight: bold;display: inline-block;line-height: 1.2em;}#sk-container-id-1 div.sk-label-container {text-align: center;}#sk-container-id-1 div.sk-container {/* jupyter's `normalize.less` sets `[hidden] { display: none; }` but bootstrap.min.css set `[hidden] { display: none !important; }` so we also need the `!important` here to be able to override the default hidden behavior on the sphinx rendered scikit-learn.org. See: https://github.com/scikit-learn/scikit-learn/issues/21755 */display: inline-block !important;position: relative;}#sk-container-id-1 div.sk-text-repr-fallback {display: none;}</style><div id=\"sk-container-id-1\" class=\"sk-top-container\"><div class=\"sk-text-repr-fallback\"><pre>TfidfTransformer()</pre><b>In a Jupyter environment, please rerun this cell to show the HTML representation or trust the notebook. <br />On GitHub, the HTML representation is unable to render, please try loading this page with nbviewer.org.</b></div><div class=\"sk-container\" hidden><div class=\"sk-item\"><div class=\"sk-estimator sk-toggleable\"><input class=\"sk-toggleable__control sk-hidden--visually\" id=\"sk-estimator-id-1\" type=\"checkbox\" checked><label for=\"sk-estimator-id-1\" class=\"sk-toggleable__label sk-toggleable__label-arrow\">TfidfTransformer</label><div class=\"sk-toggleable__content\"><pre>TfidfTransformer()</pre></div></div></div></div></div>"
      ],
      "text/plain": [
       "TfidfTransformer()"
      ]
     },
     "execution_count": 11,
     "metadata": {},
     "output_type": "execute_result"
    }
   ],
   "source": [
    "tfidf"
   ]
  },
  {
   "cell_type": "code",
   "execution_count": 12,
   "metadata": {},
   "outputs": [
    {
     "data": {
      "text/plain": [
       "<314263x69189 sparse matrix of type '<class 'numpy.float64'>'\n",
       "\twith 2033712 stored elements in Compressed Sparse Row format>"
      ]
     },
     "execution_count": 12,
     "metadata": {},
     "output_type": "execute_result"
    }
   ],
   "source": [
    "X_tfidf"
   ]
  },
  {
   "cell_type": "markdown",
   "metadata": {},
   "source": [
    "#### X_tfidf is the repository matrix that will be searched every time a new question is entered in the chatbot for the most similar question. "
   ]
  },
  {
   "cell_type": "markdown",
   "metadata": {},
   "source": [
    "#### Let's do a functions \"conversation\"\n",
    "\n",
    "#### We need to calculate the angle between every row of the X_tfidf matrix and the new question vector. Note that we are using skelearn cosine_similarity module to calculate the cosine between each row and the vector and then convert the cosine into degrees. \n",
    "\n",
    "#### Finally, we search the row that has the maximum cosine (or the minimum angle) with the new question vector and return the corresponding answer. "
   ]
  },
  {
   "cell_type": "code",
   "execution_count": 13,
   "metadata": {},
   "outputs": [],
   "source": [
    "def conversation(im):\n",
    "    global tfidf, answers, X_tfidf\n",
    "    Y_vec = vectorizer.transform(im)\n",
    "    Y_tfidf = tfidf.fit_transform(Y_vec)\n",
    "    cos_sim = np.rad2deg(np.arccos(max(cosine_similarity(Y_tfidf, X_tfidf)[0])))\n",
    "    if cos_sim > 60 :\n",
    "        return \"sorry, I did not quite understand that\"\n",
    "    else:\n",
    "        return answers[np.argmax(cosine_similarity(Y_tfidf, X_tfidf)[0])]\n"
   ]
  },
  {
   "cell_type": "markdown",
   "metadata": {},
   "source": [
    "#### Finally, let's implement the chat where the user enters a question and the bot provides a response. The chat continues until the user types \"bye\""
   ]
  },
  {
   "cell_type": "code",
   "execution_count": 14,
   "metadata": {},
   "outputs": [],
   "source": [
    "def main():\n",
    "    usr = input('Enter your name: ')\n",
    "    print(\"Support: Hi, welcome to Q&A support. How can I help you?\")\n",
    "    while True:\n",
    "        im = input(\"{}: \".format(usr))\n",
    "        if im.lower() == 'bye':\n",
    "            print(\"Q&A support: bye!\")\n",
    "            break\n",
    "        else:\n",
    "            print(\"Q&A support: \"+conversation([im]))"
   ]
  },
  {
   "cell_type": "markdown",
   "metadata": {},
   "source": [
    "### Let's test"
   ]
  },
  {
   "cell_type": "code",
   "execution_count": 15,
   "metadata": {},
   "outputs": [
    {
     "name": "stdout",
     "output_type": "stream",
     "text": [
      "Enter your name: Angel\n",
      "Support: Hi, welcome to Q&A support. How can I help you?\n",
      "Angel: \n",
      "  @media print {\n",
      "    .ms-editor-squiggles-container {\n",
      "      display:none !important;\n",
      "    }\n",
      "  }\n",
      "  .ms-editor-squiggles-container {\n",
      "    all: initial;\n",
      "  }My computer doesn't work\n",
      "Q&A support: sure they will. they work on any computer. if you have a headphone jack, plug into that. otherwise turn the computer volume waaay down and plug into the speaker jack. but before doing any of that look on your present speakers, they might have a headphone jack.\n",
      "Angel: My laptop is not working\n",
      "Q&A support: hi, you may get you laptop in 3 to 5 business day depending on you location. thanks for you interest. tech mark.\n",
      "Angel: I have a problem with my computer\n",
      "Q&A support: 7 year old computer with old operating system. doesn't have the memory to be updated. apple told me i have to just buy a knew one if i want it to work with many of the programs i use.\n",
      "Angel: can I purchase a new computer?\n",
      "Q&A support: yes\n",
      "Angel: does it come with the software?\n",
      "Q&A support: it should come with the necessary driver software. you shouldn't need it though. windows should recognize it.\n",
      "Angel: BYE\n",
      "Q&A support: bye!\n"
     ]
    }
   ],
   "source": [
    "main()"
   ]
  },
  {
   "cell_type": "code",
   "execution_count": null,
   "metadata": {},
   "outputs": [],
   "source": []
  },
  {
   "cell_type": "code",
   "execution_count": null,
   "metadata": {},
   "outputs": [],
   "source": []
  },
  {
   "cell_type": "code",
   "execution_count": null,
   "metadata": {},
   "outputs": [],
   "source": []
  },
  {
   "cell_type": "code",
   "execution_count": null,
   "metadata": {},
   "outputs": [],
   "source": [
    "main()"
   ]
  },
  {
   "cell_type": "code",
   "execution_count": null,
   "metadata": {},
   "outputs": [],
   "source": []
  },
  {
   "cell_type": "code",
   "execution_count": null,
   "metadata": {},
   "outputs": [],
   "source": []
  },
  {
   "cell_type": "code",
   "execution_count": null,
   "metadata": {},
   "outputs": [],
   "source": []
  },
  {
   "cell_type": "raw",
   "metadata": {},
   "source": [
    "# Please enter your username: Angel\n",
    "support: Hi, welcome to Q&A support. How can I help you?\n",
    "Angel: My laptop is not working\n",
    "Q&A support: hi, you may get you laptop in 3 to 5 business day depending on you location. thanks for you interest. tech mark.\n",
    "Angel: Is it under warranty?\n",
    "Q&A support: answer: this product comes with a one-year warranty. in order for us to properly assist you, please follow these simple instructions: go to www.sabrent.com/support and click submit a ticket'. submit your ticket. you must include your amazon order id# number in the subject line.\n",
    "Angel: That's great\n",
    "Q&A support: it does a good job. great computer overall\n",
    "Angel: Yes, it is. Thank you\n",
    "Q&A support: hi. frame china, optics swiss\n",
    "Angel: I doesn't make sense.\n",
    "Q&A support: i set mine up with the control key instead of the default(can't remember what the default key was). i press control twice fairly quickly and then hit enter to switch. once you hit the control key twice, your cap-lock and scroll-lock lights on your keyboard should alternate(if you have lights)... it's waiting for the enter key.\n",
    "Angel: I didn't understand\n",
    "Q&A support: gao..i'm not sure what you're asking.\n",
    "Angel: bye\n",
    "Q&A support: bye!"
   ]
  },
  {
   "cell_type": "code",
   "execution_count": null,
   "metadata": {},
   "outputs": [],
   "source": []
  }
 ],
 "metadata": {
  "kernelspec": {
   "display_name": "Python 3 (ipykernel)",
   "language": "python",
   "name": "python3"
  },
  "language_info": {
   "codemirror_mode": {
    "name": "ipython",
    "version": 3
   },
   "file_extension": ".py",
   "mimetype": "text/x-python",
   "name": "python",
   "nbconvert_exporter": "python",
   "pygments_lexer": "ipython3",
   "version": "3.11.5"
  }
 },
 "nbformat": 4,
 "nbformat_minor": 4
}
